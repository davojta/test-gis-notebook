{
 "cells": [
  {
   "cell_type": "code",
   "execution_count": 1,
   "metadata": {},
   "outputs": [],
   "source": [
    "# set borders to cool ├── ones instead of 1960 +--- ones\n",
    "!echo \"\\pset linestyle unicode\" >> ~/.psqlrc # \n",
    "!echo \"\\pset border 2\" >> ~/.psqlrc"
   ]
  },
  {
   "cell_type": "code",
   "execution_count": 3,
   "metadata": {},
   "outputs": [
    {
     "name": "stdout",
     "output_type": "stream",
     "text": [
      "\\pset linestyle unicode\r\n",
      "\\pset border 2\r\n"
     ]
    }
   ],
   "source": [
    "! cat ~/.psqlrc"
   ]
  },
  {
   "cell_type": "code",
   "execution_count": 4,
   "metadata": {},
   "outputs": [],
   "source": [
    "!echo \"SET postgis.gdal_enabled_drivers = 'ENABLE_ALL';\" >> ~/.psqlrc"
   ]
  },
  {
   "cell_type": "code",
   "execution_count": 5,
   "metadata": {},
   "outputs": [
    {
     "name": "stdout",
     "output_type": "stream",
     "text": [
      "/bin/sh: service: command not found\r\n"
     ]
    }
   ],
   "source": [
    "# working only in linux\n",
    "#!service postgresql start"
   ]
  },
  {
   "cell_type": "code",
   "execution_count": 6,
   "metadata": {},
   "outputs": [
    {
     "name": "stdout",
     "output_type": "stream",
     "text": [
      "psql: error: could not connect to server: FATAL:  database \"dzianissheka\" does not exist\r\n"
     ]
    }
   ],
   "source": [
    "!psql -c \"create extension postgis;\""
   ]
  },
  {
   "cell_type": "code",
   "execution_count": 10,
   "metadata": {},
   "outputs": [
    {
     "name": "stdout",
     "output_type": "stream",
     "text": [
      "psql: error: could not connect to server: FATAL:  database \"dzianissheka\" does not exist\r\n"
     ]
    }
   ],
   "source": [
    "!psql -q -c \"select postgis_full_version();\""
   ]
  },
  {
   "cell_type": "code",
   "execution_count": 20,
   "metadata": {},
   "outputs": [
    {
     "name": "stdout",
     "output_type": "stream",
     "text": [
      "Stopping `postgresql`... (might take a while)\n",
      "\u001b[34m==>\u001b[0m \u001b[1mSuccessfully stopped `postgresql` (label: homebrew.mxcl.postgresql)\u001b[0m\n",
      "\u001b[34m==>\u001b[0m \u001b[1mSuccessfully started `postgresql` (label: homebrew.mxcl.postgresql)\u001b[0m\n"
     ]
    }
   ],
   "source": [
    "!brew services restart postgresql"
   ]
  },
  {
   "cell_type": "code",
   "execution_count": 13,
   "metadata": {},
   "outputs": [
    {
     "name": "stdout",
     "output_type": "stream",
     "text": [
      "pg_ctl: another server might be running; trying to start server anyway\n",
      "waiting for server to start....2020-03-21 20:55:36.749 +03 [91558] FATAL:  lock file \"postmaster.pid\" already exists\n",
      "2020-03-21 20:55:36.749 +03 [91558] HINT:  Is another postmaster (PID 91541) running in data directory \"/usr/local/var/postgres\"?\n",
      " stopped waiting\n",
      "pg_ctl: could not start server\n",
      "Examine the log output.\n"
     ]
    }
   ],
   "source": [
    "# not working because of brew usage\n",
    "# !pg_ctl -D /usr/local/var/postgres start"
   ]
  },
  {
   "cell_type": "code",
   "execution_count": null,
   "metadata": {},
   "outputs": [],
   "source": [
    "ls -al /usr/local/var/postgres"
   ]
  },
  {
   "cell_type": "code",
   "execution_count": 17,
   "metadata": {},
   "outputs": [
    {
     "name": "stdout",
     "output_type": "stream",
     "text": [
      "The files belonging to this database system will be owned by user \"dzianissheka\".\n",
      "This user must also own the server process.\n",
      "\n",
      "The database cluster will be initialized with locales\n",
      "  COLLATE:  C\n",
      "  CTYPE:    UTF-8\n",
      "  MESSAGES: C\n",
      "  MONETARY: C\n",
      "  NUMERIC:  C\n",
      "  TIME:     C\n",
      "The default database encoding has accordingly been set to \"UTF8\".\n",
      "initdb: could not find suitable text search configuration for locale \"UTF-8\"\n",
      "The default text search configuration will be set to \"simple\".\n",
      "\n",
      "Data page checksums are disabled.\n",
      "\n",
      "creating directory /usr/local/var/postgres ... ok\n",
      "creating subdirectories ... ok\n",
      "selecting dynamic shared memory implementation ... posix\n",
      "selecting default max_connections ... 100\n",
      "selecting default shared_buffers ... 128MB\n",
      "selecting default time zone ... Europe/Minsk\n",
      "creating configuration files ... ok\n",
      "running bootstrap script ... ok\n",
      "performing post-bootstrap initialization ... ok\n",
      "syncing data to disk ... ok\n",
      "\n",
      "initdb: warning: enabling \"trust\" authentication for local connections\n",
      "You can change this by editing pg_hba.conf or using the option -A, or\n",
      "--auth-local and --auth-host, the next time you run initdb.\n",
      "\n",
      "Success. You can now start the database server using:\n",
      "\n",
      "    pg_ctl -D /usr/local/var/postgres -l logfile start\n",
      "\n"
     ]
    }
   ],
   "source": [
    "!initdb /usr/local/var/postgres"
   ]
  },
  {
   "cell_type": "code",
   "execution_count": 16,
   "metadata": {},
   "outputs": [],
   "source": [
    "#!rm -r /usr/local/var/postgres"
   ]
  },
  {
   "cell_type": "code",
   "execution_count": 19,
   "metadata": {},
   "outputs": [
    {
     "name": "stdout",
     "output_type": "stream",
     "text": [
      "pg_ctl: another server might be running; trying to start server anyway\n",
      "waiting for server to start.... stopped waiting\n",
      "pg_ctl: could not start server\n",
      "Examine the log output.\n"
     ]
    }
   ],
   "source": [
    "!pg_ctl -D /usr/local/var/postgres -l logfile start"
   ]
  },
  {
   "cell_type": "code",
   "execution_count": 21,
   "metadata": {},
   "outputs": [],
   "source": [
    "# !createdb postgis_test"
   ]
  },
  {
   "cell_type": "code",
   "execution_count": null,
   "metadata": {},
   "outputs": [],
   "source": [
    "!psql postgis_test"
   ]
  },
  {
   "cell_type": "code",
   "execution_count": 3,
   "metadata": {},
   "outputs": [
    {
     "name": "stdout",
     "output_type": "stream",
     "text": [
      "Line style is unicode.\n",
      "Border style is 2.\n",
      "SET\n",
      "CREATE EXTENSION\n"
     ]
    }
   ],
   "source": [
    "!psql postgis_test -c \"create extension postgis;\""
   ]
  },
  {
   "cell_type": "code",
   "execution_count": 4,
   "metadata": {},
   "outputs": [
    {
     "name": "stdout",
     "output_type": "stream",
     "text": [
      "Line style is unicode.\n",
      "Border style is 2.\n",
      "SET\n",
      "CREATE EXTENSION\n"
     ]
    }
   ],
   "source": [
    "!psql postgis_test -c \"create extension postgis_raster;\""
   ]
  },
  {
   "cell_type": "code",
   "execution_count": 6,
   "metadata": {},
   "outputs": [],
   "source": [
    "from IPython.display import Image"
   ]
  },
  {
   "cell_type": "code",
   "execution_count": 2,
   "metadata": {
    "scrolled": false
   },
   "outputs": [
    {
     "name": "stdout",
     "output_type": "stream",
     "text": [
      "┌───────────────────────────────────────────────────────────────────────────────────────────────────────────────────────────────────────────────────────────────────────────────────────────────────────────────────┐\r\n",
      "│                                                                                               postgis_full_version                                                                                                │\r\n",
      "├───────────────────────────────────────────────────────────────────────────────────────────────────────────────────────────────────────────────────────────────────────────────────────────────────────────────────┤\r\n",
      "│ POSTGIS=\"3.0.1 ec2a9aa\" [EXTENSION] PGSQL=\"120\" GEOS=\"3.8.1-CAPI-1.13.3\" PROJ=\"7.0.0\" GDAL=\"GDAL 2.4.4, released 2020/01/08\" LIBXML=\"2.9.10\" LIBJSON=\"0.13.1\" LIBPROTOBUF=\"1.3.3\" WAGYU=\"0.4.3 (Internal)\" RASTER │\r\n",
      "└───────────────────────────────────────────────────────────────────────────────────────────────────────────────────────────────────────────────────────────────────────────────────────────────────────────────────┘\r\n",
      "(1 row)\r\n",
      "\r\n"
     ]
    }
   ],
   "source": [
    "!psql postgis_test -q -c \"select postgis_full_version();\""
   ]
  },
  {
   "cell_type": "code",
   "execution_count": 4,
   "metadata": {},
   "outputs": [
    {
     "name": "stdout",
     "output_type": "stream",
     "text": [
      "┌──────────────────────────────────────────────────────────────────────────────────────────────────────────────────────────────────────────────────────────────────────────────────────────────────────────────────────────────────────────────────────────────────────────────────────────────────────────────────────────────────────────────────────────────────────────────────────────────────────────────────────────────────────────────────────────────────────────────────────────────────────────────────────────────────────────────────────────────────────────────────────────────────────────────────────────────────────────────────────────────────────────────────────────────────────────────────────────────────────────────────────────────────────────────────────────────────────────────────────────────────────────────────────────────────────────────────────────────────────────────────────────────────────────────────────────────────────────────────────────────────────────────────────────────────────────────┐\r\n",
      "│                                                                                                                                                                                                                                                                                                                                                                                                                                                                                                                  st_astext                                                                                                                                                                                                                                                                                                                                                                                                                                                                                                                   │\r\n",
      "├──────────────────────────────────────────────────────────────────────────────────────────────────────────────────────────────────────────────────────────────────────────────────────────────────────────────────────────────────────────────────────────────────────────────────────────────────────────────────────────────────────────────────────────────────────────────────────────────────────────────────────────────────────────────────────────────────────────────────────────────────────────────────────────────────────────────────────────────────────────────────────────────────────────────────────────────────────────────────────────────────────────────────────────────────────────────────────────────────────────────────────────────────────────────────────────────────────────────────────────────────────────────────────────────────────────────────────────────────────────────────────────────────────────────────────────────────────────────────────────────────────────────────────────────────────────────┤\r\n",
      "│ POLYGON((10 0,9.8078528040323 -1.95090322016128,9.23879532511287 -3.82683432365089,8.31469612302546 -5.55570233019602,7.07106781186548 -7.07106781186547,5.55570233019603 -8.31469612302545,3.82683432365091 -9.23879532511286,1.9509032201613 -9.8078528040323,0 -10,-1.95090322016126 -9.80785280403231,-3.82683432365088 -9.23879532511287,-5.555702330196 -8.31469612302547,-7.07106781186546 -7.07106781186549,-8.31469612302544 -5.55570233019604,-9.23879532511286 -3.82683432365092,-9.8078528040323 -1.95090322016131,-10 0,-9.80785280403231 1.95090322016125,-9.23879532511288 3.82683432365086,-8.31469612302547 5.55570233019599,-7.0710678118655 7.07106781186545,-5.55570233019606 8.31469612302543,-3.82683432365094 9.23879532511285,-1.95090322016132 9.8078528040323,0 10,1.95090322016125 9.80785280403231,3.82683432365087 9.23879532511288,5.555702330196 8.31469612302547,7.07106781186545 7.0710678118655,8.31469612302544 5.55570233019604,9.23879532511286 3.82683432365092,9.8078528040323 1.9509032201613,10 0)) │\r\n",
      "└──────────────────────────────────────────────────────────────────────────────────────────────────────────────────────────────────────────────────────────────────────────────────────────────────────────────────────────────────────────────────────────────────────────────────────────────────────────────────────────────────────────────────────────────────────────────────────────────────────────────────────────────────────────────────────────────────────────────────────────────────────────────────────────────────────────────────────────────────────────────────────────────────────────────────────────────────────────────────────────────────────────────────────────────────────────────────────────────────────────────────────────────────────────────────────────────────────────────────────────────────────────────────────────────────────────────────────────────────────────────────────────────────────────────────────────────────────────────────────────────────────────────────────────────────────────────┘\r\n",
      "(1 row)\r\n",
      "\r\n"
     ]
    }
   ],
   "source": [
    "!psql postgis_test -q -c \"select ST_AsText(ST_Buffer('POINT(0 0)', 10))\""
   ]
  },
  {
   "cell_type": "code",
   "execution_count": 7,
   "metadata": {},
   "outputs": [
    {
     "data": {
      "image/png": "[encoded data removed]",
      "text/plain": [
       "<IPython.core.display.Image object>"
      ]
     },
     "execution_count": 7,
     "metadata": {},
     "output_type": "execute_result"
    }
   ],
   "source": [
    "!psql postgis_test -q -c \" copy (SELECT encode(ST_AsPNG(ST_AsRaster(ST_Buffer(ST_Point(1,5),10),500, 500)),'hex')) to stdout;\" | xxd -r -p > image.png\n",
    "Image('image.png')"
   ]
  },
  {
   "cell_type": "code",
   "execution_count": 9,
   "metadata": {},
   "outputs": [
    {
     "name": "stdout",
     "output_type": "stream",
     "text": [
      "\u001b[32m==>\u001b[0m \u001b[1mInstalling dependencies for osm2pgsql: \u001b[32mlua\u001b[39m and \u001b[32mluajit\u001b[39m\u001b[0m\n",
      "\u001b[32m==>\u001b[0m \u001b[1mInstalling osm2pgsql dependency: \u001b[32mlua\u001b[39m\u001b[0m\n",
      "\u001b[34m==>\u001b[0m \u001b[1mDownloading https://homebrew.bintray.com/bottles/lua-5.3.5_1.mojave.bottle.t\u001b[0m\n",
      "######################################################################## 100.0%\n",
      "\u001b[34m==>\u001b[0m \u001b[1mPouring lua-5.3.5_1.mojave.bottle.tar.gz\u001b[0m\n",
      "\u001b[34m==>\u001b[0m \u001b[1mCaveats\u001b[0m\n",
      "You may also want luarocks:\n",
      "  brew install luarocks\n",
      "\u001b[34m==>\u001b[0m \u001b[1mSummary\u001b[0m\n",
      "🍺  /usr/local/Cellar/lua/5.3.5_1: 28 files, 274.5KB\n",
      "\u001b[32m==>\u001b[0m \u001b[1mInstalling osm2pgsql dependency: \u001b[32mluajit\u001b[39m\u001b[0m\n",
      "\u001b[34m==>\u001b[0m \u001b[1mDownloading https://homebrew.bintray.com/bottles/luajit-2.0.5.mojave.bottle.\u001b[0m\n",
      "\u001b[34m==>\u001b[0m \u001b[1mDownloading from https://akamai.bintray.com/a1/a127723ca4997acaa45e3b548eeb4\u001b[0m\n",
      "######################################################################## 100.0%\n",
      "\u001b[34m==>\u001b[0m \u001b[1mPouring luajit-2.0.5.mojave.bottle.3.tar.gz\u001b[0m\n",
      "🍺  /usr/local/Cellar/luajit/2.0.5: 31 files, 1.9MB\n",
      "\u001b[32m==>\u001b[0m \u001b[1mInstalling \u001b[32mosm2pgsql\u001b[39m\u001b[0m\n",
      "\u001b[34m==>\u001b[0m \u001b[1mDownloading https://homebrew.bintray.com/bottles/osm2pgsql-1.2.1_1.mojave.bo\u001b[0m\n",
      "\u001b[34m==>\u001b[0m \u001b[1mDownloading from https://akamai.bintray.com/b8/b8c30a15e7d08731e701e46b1cb56\u001b[0m\n",
      "######################################################################## 100.0%\n",
      "\u001b[34m==>\u001b[0m \u001b[1mPouring osm2pgsql-1.2.1_1.mojave.bottle.tar.gz\u001b[0m\n",
      "🍺  /usr/local/Cellar/osm2pgsql/1.2.1_1: 10 files, 1MB\n",
      "\u001b[32m==>\u001b[0m \u001b[1mCaveats\u001b[0m\n",
      "\u001b[34m==>\u001b[0m \u001b[1mlua\u001b[0m\n",
      "You may also want luarocks:\n",
      "  brew install luarocks\n"
     ]
    }
   ],
   "source": [
    "!brew install osm2pgsql"
   ]
  },
  {
   "cell_type": "code",
   "execution_count": 10,
   "metadata": {},
   "outputs": [],
   "source": [
    "!createdb gis"
   ]
  },
  {
   "cell_type": "code",
   "execution_count": 11,
   "metadata": {},
   "outputs": [
    {
     "name": "stdout",
     "output_type": "stream",
     "text": [
      "Line style is unicode.\n",
      "Border style is 2.\n",
      "SET\n",
      "CREATE EXTENSION\n"
     ]
    }
   ],
   "source": [
    "!psql -d gis -c \"CREATE EXTENSION postgis;\""
   ]
  },
  {
   "cell_type": "code",
   "execution_count": 13,
   "metadata": {},
   "outputs": [
    {
     "name": "stdout",
     "output_type": "stream",
     "text": [
      "┌─────────────────────────────────────────────────────────────────────────────────────────────────────────────────────────────────────────────────────────────────────┐\r\n",
      "│                                                                        postgis_full_version                                                                         │\r\n",
      "├─────────────────────────────────────────────────────────────────────────────────────────────────────────────────────────────────────────────────────────────────────┤\r\n",
      "│ POSTGIS=\"3.0.1 ec2a9aa\" [EXTENSION] PGSQL=\"120\" GEOS=\"3.8.1-CAPI-1.13.3\" PROJ=\"7.0.0\" LIBXML=\"2.9.10\" LIBJSON=\"0.13.1\" LIBPROTOBUF=\"1.3.3\" WAGYU=\"0.4.3 (Internal)\" │\r\n",
      "└─────────────────────────────────────────────────────────────────────────────────────────────────────────────────────────────────────────────────────────────────────┘\r\n",
      "(1 row)\r\n",
      "\r\n"
     ]
    }
   ],
   "source": [
    "!psql -d gis -q -c \"select postgis_full_version();\" "
   ]
  },
  {
   "cell_type": "code",
   "execution_count": 14,
   "metadata": {},
   "outputs": [
    {
     "name": "stdout",
     "output_type": "stream",
     "text": [
      "/Users/dzianissheka/projects/dev/GIS/notebooks\r\n"
     ]
    }
   ],
   "source": [
    "#!mkdir ../osm/belarus"
   ]
  },
  {
   "cell_type": "code",
   "execution_count": 27,
   "metadata": {},
   "outputs": [
    {
     "name": "stdout",
     "output_type": "stream",
     "text": [
      "Warning: Failed to set locale category LC_NUMERIC to en_BY.\n",
      "Warning: Failed to set locale category LC_TIME to en_BY.\n",
      "Warning: Failed to set locale category LC_COLLATE to en_BY.\n",
      "Warning: Failed to set locale category LC_MONETARY to en_BY.\n",
      "Warning: Failed to set locale category LC_MESSAGES to en_BY.\n",
      "--2020-03-21 23:29:44--  https://download.geofabrik.de/europe/belarus-latest.osm.pbf\n",
      "Resolving download.geofabrik.de (download.geofabrik.de)... 88.99.142.44, 116.202.112.212\n",
      "Connecting to download.geofabrik.de (download.geofabrik.de)|88.99.142.44|:443... connected.\n",
      "HTTP request sent, awaiting response... 200 OK\n",
      "Length: 213449679 (204M) [application/octet-stream]\n",
      "Saving to: ‘belarus-latest.osm.pbf.1’\n",
      "\n",
      "belarus-latest.osm. 100%[===================>] 203.56M   335KB/s    in 5m 20s  \n",
      "\n",
      "2020-03-21 23:35:05 (652 KB/s) - ‘belarus-latest.osm.pbf.1’ saved [213449679/213449679]\n",
      "\n"
     ]
    }
   ],
   "source": [
    "!wget https://download.geofabrik.de/europe/belarus-latest.osm.pbf"
   ]
  },
  {
   "cell_type": "code",
   "execution_count": 41,
   "metadata": {},
   "outputs": [
    {
     "name": "stdout",
     "output_type": "stream",
     "text": [
      "Warning: Failed to set locale category LC_NUMERIC to en_BY.\n",
      "Warning: Failed to set locale category LC_TIME to en_BY.\n",
      "Warning: Failed to set locale category LC_COLLATE to en_BY.\n",
      "Warning: Failed to set locale category LC_MONETARY to en_BY.\n",
      "Warning: Failed to set locale category LC_MESSAGES to en_BY.\n",
      "--2020-03-22 01:13:01--  https://osm-internal.download.geofabrik.de/europe/belarus-latest-internal.osm.pbf\n",
      "Resolving osm-internal.download.geofabrik.de (osm-internal.download.geofabrik.de)... 95.216.39.125\n",
      "Connecting to osm-internal.download.geofabrik.de (osm-internal.download.geofabrik.de)|95.216.39.125|:443... connected.\n",
      "HTTP request sent, awaiting response... 403 Forbidden\n",
      "2020-03-22 01:13:13 ERROR 403: Forbidden.\n",
      "\n"
     ]
    }
   ],
   "source": [
    "!wget https://osm-internal.download.geofabrik.de/europe/belarus-latest-internal.osm.pbf"
   ]
  },
  {
   "cell_type": "code",
   "execution_count": 23,
   "metadata": {},
   "outputs": [
    {
     "name": "stdout",
     "output_type": "stream",
     "text": [
      "total 424984\r\n",
      "drwxr-xr-x  8 dzianissheka  staff        256 Mar 21 21:55 \u001b[1m\u001b[36m.\u001b[m\u001b[m\r\n",
      "drwxr-xr-x  5 dzianissheka  staff        160 Mar 21 21:12 \u001b[1m\u001b[36m..\u001b[m\u001b[m\r\n",
      "drwxr-xr-x  4 dzianissheka  staff        128 Mar 21 21:01 \u001b[1m\u001b[36m.ipynb_checkpoints\u001b[m\u001b[m\r\n",
      "-rw-r--r--  1 dzianissheka  staff  213449679 Mar 21 04:45 belarus-latest.osm.pbf\r\n",
      "-rw-r--r--  1 dzianissheka  staff       2870 Mar 21 21:05 image.png\r\n",
      "-rw-r--r--  1 dzianissheka  staff       9886 Mar 21 20:59 install_postgis.ipynb\r\n",
      "-rw-r--r--  1 dzianissheka  staff      33365 Mar 21 21:55 install_postgis_continue.ipynb\r\n",
      "-rw-------  1 dzianissheka  staff        216 Mar 21 20:57 logfile\r\n"
     ]
    }
   ],
   "source": [
    "!ls -al"
   ]
  },
  {
   "cell_type": "code",
   "execution_count": 25,
   "metadata": {},
   "outputs": [
    {
     "name": "stdout",
     "output_type": "stream",
     "text": [
      "osm2pgsql version 1.2.1 (64 bit id space)\n",
      "\n",
      "Allocating memory for dense node cache\n",
      "Allocating dense node cache in one big chunk\n",
      "Allocating memory for sparse node cache\n",
      "Sharing dense sparse\n",
      "Node-cache: cache=800MB, maxblocks=12800*65536, allocation method=11\n",
      "Mid: pgsql, cache=800\n",
      "Setting up table: planet_osm_nodes\n",
      "Setting up table: planet_osm_ways\n",
      "Setting up table: planet_osm_rels\n",
      "Using built-in tag processing pipeline\n",
      "Using projection SRS 3857 (Spherical Mercator)\n",
      "Setting up table: planet_osm_point\n",
      "Setting up table: planet_osm_line\n",
      "Setting up table: planet_osm_polygon\n",
      "Setting up table: planet_osm_roads\n",
      "\n",
      "Reading in file: belarus-latest.osm.pbf\n",
      "Using PBF parser.\n",
      "Processing: Node(24560k 558.2k/s) Way(3614k 100.41k/s) Relation(55350 3690.00/s)  parse time: 95s\n",
      "Node stats: total(24560731), max(7313932531) in 44s\n",
      "Way stats: total(3614644), max(783179764) in 36s\n",
      "Relation stats: total(57965), max(10867787) in 15s\n",
      "Sorting data and creating indexes for planet_osm_line\n",
      "Sorting data and creating indexes for planet_osm_point\n",
      "Sorting data and creating indexes for planet_osm_roads\n",
      "Sorting data and creating indexes for planet_osm_polygon\n",
      "Copying planet_osm_roads to cluster by geometry finished\n",
      "Creating geometry index on planet_osm_roads\n",
      "Creating osm_id index on planet_osm_roads\n",
      "Creating indexes on planet_osm_roads finished\n",
      "All indexes on planet_osm_roads created in 5s\n",
      "Completed planet_osm_roads\n",
      "Stopping table: planet_osm_nodes\n",
      "Stopped table: planet_osm_nodes in 0s\n",
      "Stopping table: planet_osm_ways\n",
      "Building index on table: planet_osm_ways\n",
      "Copying planet_osm_point to cluster by geometry finished\n",
      "Creating geometry index on planet_osm_point\n",
      "Creating osm_id index on planet_osm_point\n",
      "Creating indexes on planet_osm_point finished\n",
      "All indexes on planet_osm_point created in 19s\n",
      "Completed planet_osm_point\n",
      "Stopping table: planet_osm_rels\n",
      "Building index on table: planet_osm_rels\n",
      "Copying planet_osm_line to cluster by geometry finished\n",
      "Creating geometry index on planet_osm_line\n",
      "Stopped table: planet_osm_rels in 1s\n",
      "Creating osm_id index on planet_osm_line\n",
      "Creating indexes on planet_osm_line finished\n",
      "All indexes on planet_osm_line created in 43s\n",
      "Completed planet_osm_line\n",
      "Copying planet_osm_polygon to cluster by geometry finished\n",
      "Creating geometry index on planet_osm_polygon\n",
      "Stopped table: planet_osm_ways in 89s\n",
      "Creating osm_id index on planet_osm_polygon\n",
      "Creating indexes on planet_osm_polygon finished\n",
      "All indexes on planet_osm_polygon created in 97s\n",
      "Completed planet_osm_polygon\n",
      "\n",
      "Osm2pgsql took 194s overall\n",
      "node cache: stored: 24560731(100.00%), storage efficiency: 50.14% (dense blocks: 83, sparse nodes: 24152884), hit rate: 100.00%\n"
     ]
    }
   ],
   "source": [
    "!osm2pgsql --slim --username dzianissheka --database gis belarus-latest.osm.pbf"
   ]
  },
  {
   "cell_type": "code",
   "execution_count": 10,
   "metadata": {},
   "outputs": [
    {
     "name": "stdout",
     "output_type": "stream",
     "text": [
      "┌────────────┬────────────┬────────────────┬──────────────────┬────────────────────┬─────────────┬───────────┬─────────┬─────────┬──────┬────────────────┬─────────┬───────┬────────┬────────────────┬──────────┬─────────┬──────────────┬─────────┬─────────┬─────────┬──────────────┬─────────┬─────┬────────────┬──────┬──────────────────┬─────────┬─────────┬──────────┬───────┬──────────────┬──────────┬─────────┬───────┬─────────┬──────┬──────────┬──────────┬──────────┬────────────────────────────────────────────┬─────────┬────────┬────────┬──────────┬────────┬────────────┬───────┬──────────────┬──────────────────┬─────────┬─────┬──────────┬───────┬─────────┬──────┬───────┬─────────┬──────┬─────────┬────────────┬────────┬───────┬──────────┬─────────┬───────┬──────┬─────────┬────────────────────────────────────────────────────┐\r\n",
      "│   osm_id   │   access   │ addr:housename │ addr:housenumber │ addr:interpolation │ admin_level │ aerialway │ aeroway │ amenity │ area │    barrier     │ bicycle │ brand │ bridge │    boundary    │ building │ capital │ construction │ covered │ culvert │ cutting │ denomination │ disused │ ele │ embankment │ foot │ generator:source │ harbour │ highway │ historic │ horse │ intermittent │ junction │ landuse │ layer │ leisure │ lock │ man_made │ military │ motorcar │                    name                    │ natural │ office │ oneway │ operator │ place  │ population │ power │ power_source │ public_transport │ railway │ ref │ religion │ route │ service │ shop │ sport │ surface │ toll │ tourism │ tower:type │ tunnel │ water │ waterway │ wetland │ width │ wood │ z_order │                        way                         │\r\n",
      "├────────────┼────────────┼────────────────┼──────────────────┼────────────────────┼─────────────┼───────────┼─────────┼─────────┼──────┼────────────────┼─────────┼───────┼────────┼────────────────┼──────────┼─────────┼──────────────┼─────────┼─────────┼─────────┼──────────────┼─────────┼─────┼────────────┼──────┼──────────────────┼─────────┼─────────┼──────────┼───────┼──────────────┼──────────┼─────────┼───────┼─────────┼──────┼──────────┼──────────┼──────────┼────────────────────────────────────────────┼─────────┼────────┼────────┼──────────┼────────┼────────────┼───────┼──────────────┼──────────────────┼─────────┼─────┼──────────┼───────┼─────────┼──────┼───────┼─────────┼──────┼─────────┼────────────┼────────┼───────┼──────────┼─────────┼───────┼──────┼─────────┼────────────────────────────────────────────────────┤\r\n",
      "│ 5151669744 │ yes        │                │                  │                    │ 2           │           │         │         │      │ border_control │         │       │        │ administrative │          │         │              │         │         │         │              │         │     │            │      │                  │         │         │          │       │              │          │         │       │         │      │          │          │          │ Глушкавічы (грамадзяне Беларусі і Украіны) │         │        │        │          │        │            │       │              │                  │         │     │          │       │         │      │       │         │      │         │            │        │       │          │         │       │      │         │ 0101000020110F00003FECC2FB5AA54741D4D06BE712A05941 │\r\n",
      "│ 5151669743 │ yes        │                │                  │                    │ 2           │           │         │         │      │ border_control │         │       │        │ administrative │          │         │              │         │         │         │              │         │     │            │      │                  │         │         │          │       │              │          │         │       │         │      │          │          │          │ Глушкавічы (грамадзяне Беларусі і Украіны) │         │        │        │          │        │            │       │              │                  │         │     │          │       │         │      │       │         │      │         │            │        │       │          │         │       │      │         │ 0101000020110F000016A640355FA54741CA37F4FE15A05941 │\r\n",
      "│  506255449 │ permissive │                │                  │                    │ 2           │           │         │         │      │ border_control │         │       │        │ administrative │          │         │              │         │         │         │              │         │     │            │      │                  │         │         │          │       │              │          │         │       │         │      │          │          │          │ КПП \"Майдан Копищенський\"                  │         │        │        │          │        │            │       │              │                  │         │     │          │       │         │      │       │         │      │         │            │        │       │          │         │       │      │         │ 0101000020110F000054533DCF7FAA4741296D7F77739C5941 │\r\n",
      "│ 7152457470 │            │                │                  │                    │ 10          │           │         │         │      │                │         │       │        │ administrative │          │         │              │         │         │         │              │         │     │            │      │                  │         │         │          │       │              │          │         │       │         │      │          │          │          │ Бутримово                                  │         │        │        │          │ hamlet │            │       │              │                  │         │     │          │       │         │      │       │         │      │         │            │        │       │          │         │       │      │         │ 0101000020110F0000012774B45CE046419AD27617D0BC5B41 │\r\n",
      "│   26162465 │            │                │                  │                    │ 2           │           │         │         │      │                │         │       │        │                │          │ yes     │              │         │         │         │              │         │ 280 │            │      │                  │         │         │          │       │              │          │         │       │         │      │          │          │          │ Минск                                      │         │        │        │          │ city   │ 1982444    │       │              │                  │         │     │          │       │         │      │       │         │      │         │            │        │       │          │         │       │      │         │ 0101000020110F0000733F612C87684741FAC5644B10485B41 │\r\n",
      "└────────────┴────────────┴────────────────┴──────────────────┴────────────────────┴─────────────┴───────────┴─────────┴─────────┴──────┴────────────────┴─────────┴───────┴────────┴────────────────┴──────────┴─────────┴──────────────┴─────────┴─────────┴─────────┴──────────────┴─────────┴─────┴────────────┴──────┴──────────────────┴─────────┴─────────┴──────────┴───────┴──────────────┴──────────┴─────────┴───────┴─────────┴──────┴──────────┴──────────┴──────────┴────────────────────────────────────────────┴─────────┴────────┴────────┴──────────┴────────┴────────────┴───────┴──────────────┴──────────────────┴─────────┴─────┴──────────┴───────┴─────────┴──────┴───────┴─────────┴──────┴─────────┴────────────┴────────┴───────┴──────────┴─────────┴───────┴──────┴─────────┴────────────────────────────────────────────────────┘\r\n",
      "(5 rows)\r\n",
      "\r\n"
     ]
    }
   ],
   "source": [
    "!psql -q -d gis -c \"select * FROM planet_osm_point where admin_level IS NOT NULL limit 5;\""
   ]
  },
  {
   "cell_type": "code",
   "execution_count": 28,
   "metadata": {},
   "outputs": [],
   "source": [
    "!touch export-config.json"
   ]
  },
  {
   "cell_type": "code",
   "execution_count": 33,
   "metadata": {},
   "outputs": [
    {
     "ename": "SyntaxError",
     "evalue": "invalid syntax (<ipython-input-33-20e95f68eba0>, line 20)",
     "output_type": "error",
     "traceback": [
      "\u001b[0;36m  File \u001b[0;32m\"<ipython-input-33-20e95f68eba0>\"\u001b[0;36m, line \u001b[0;32m20\u001b[0m\n\u001b[0;31m    ` > export-config.json\u001b[0m\n\u001b[0m    ^\u001b[0m\n\u001b[0;31mSyntaxError\u001b[0m\u001b[0;31m:\u001b[0m invalid syntax\n"
     ]
    }
   ],
   "source": [
    "!brew install osmium-tool"
   ]
  },
  {
   "cell_type": "code",
   "execution_count": 40,
   "metadata": {},
   "outputs": [
    {
     "name": "stdout",
     "output_type": "stream",
     "text": [
      "[ 0:00] Started osmium export\n",
      "[ 0:00]   osmium version 1.11.1\n",
      "[ 0:00]   libosmium version 2.15.3\n",
      "[ 0:00] Command line options and default settings:\n",
      "[ 0:00]   input options:\n",
      "[ 0:00]     file name: belarus-latest.osm.pbf\n",
      "[ 0:00]     file format: \n",
      "[ 0:00]   output options:\n",
      "[ 0:00]     file name: export.sql\n",
      "[ 0:00]     file format: pg\n",
      "[ 0:00]     overwrite: yes\n",
      "[ 0:00]     fsync: no\n",
      "[ 0:00]   attributes:\n",
      "[ 0:00]     type:      @type\n",
      "[ 0:00]     id:        @id\n",
      "[ 0:00]     version:   @version\n",
      "[ 0:00]     changeset: @changeset\n",
      "[ 0:00]     timestamp: @timestamp\n",
      "[ 0:00]     uid:       @uid\n",
      "[ 0:00]     user:      osm_user\n",
      "[ 0:00]     way_nodes: (omitted)\n",
      "[ 0:00]   output format options:\n",
      "[ 0:00]     tags_type = json\n",
      "[ 0:00]   linear tags: any\n",
      "[ 0:00]   area tags:   any\n",
      "[ 0:00]   other options:\n",
      "[ 0:00]     index type: flex_mem\n",
      "[ 0:00]     add unique IDs: no\n",
      "[ 0:00]     keep untagged features: no\n",
      "[ 0:01] \n",
      "[ 0:01] Create table with something like this:\n",
      "[ 0:01] CREATE TABLE osmdata (\n",
      "[ 0:01]     geom      GEOMETRY, -- or GEOGRAPHY\n",
      "[ 0:01]     osm_type  TEXT,\n",
      "[ 0:01]     osm_id    BIGINT,\n",
      "[ 0:01]     version   INTEGER,\n",
      "[ 0:01]     changeset INTEGER,\n",
      "[ 0:01]     uid       INTEGER,\n",
      "[ 0:01]     user      TEXT,\n",
      "[ 0:01]     timestamp TIMESTAMP (0) WITH TIME ZONE,\n",
      "[ 0:01]     tags      JSONB -- or JSON, or TEXT\n",
      "[ 0:01] );\n",
      "[ 0:01] Then load data with something like this:\n",
      "[ 0:01] \\copy osmdata FROM 'export.sql'\n",
      "[ 0:01] \n",
      "[ 0:01] First pass (of two) through input file (reading relations)...\n",
      "[ 0:01] First pass done.\n",
      "[ 0:01] Second pass (of two) through input file...\n",
      "[======================================================================] 100% \n",
      "[ 0:37] About 374 MBytes used for node location index (in main memory or on disk).\n",
      "[ 0:37] Second pass done.\n",
      "[ 0:37] Wrote 6777148 features.\n",
      "[ 0:37] Encountered 28 errors.\n",
      "[ 0:37] Done.\n"
     ]
    }
   ],
   "source": [
    "!osmium export -c export-config.json -f pg belarus-latest.osm.pbf -o export.sql -v --overwrite"
   ]
  },
  {
   "cell_type": "code",
   "execution_count": 11,
   "metadata": {},
   "outputs": [
    {
     "name": "stdout",
     "output_type": "stream",
     "text": [
      "/Users/dzianissheka/projects/dev/GIS/notebooks\r\n"
     ]
    }
   ],
   "source": [
    "!pwd"
   ]
  },
  {
   "cell_type": "code",
   "execution_count": null,
   "metadata": {},
   "outputs": [],
   "source": []
  }
 ],
 "metadata": {
  "kernelspec": {
   "display_name": "Python 3",
   "language": "python",
   "name": "python3"
  },
  "language_info": {
   "codemirror_mode": {
    "name": "ipython",
    "version": 3
   },
   "file_extension": ".py",
   "mimetype": "text/x-python",
   "name": "python",
   "nbconvert_exporter": "python",
   "pygments_lexer": "ipython3",
   "version": "3.7.4"
  }
 },
 "nbformat": 4,
 "nbformat_minor": 2
}
